{
  "nbformat": 4,
  "nbformat_minor": 0,
  "metadata": {
    "colab": {
      "provenance": [],
      "authorship_tag": "ABX9TyNdE54BvzzNbiJBRcDNF71a",
      "include_colab_link": true
    },
    "kernelspec": {
      "name": "python3",
      "display_name": "Python 3"
    },
    "language_info": {
      "name": "python"
    }
  },
  "cells": [
    {
      "cell_type": "markdown",
      "metadata": {
        "id": "view-in-github",
        "colab_type": "text"
      },
      "source": [
        "<a href=\"https://colab.research.google.com/github/gilbertKorir/python-control-flows/blob/main/controlflow.ipynb\" target=\"_parent\"><img src=\"https://colab.research.google.com/assets/colab-badge.svg\" alt=\"Open In Colab\"/></a>"
      ]
    },
    {
      "cell_type": "code",
      "source": [
        "# Check Even or Odd\n",
        "# Ask the user for a number and print whether it is even or odd.\n",
        "number = int(input(\"Enter number :\"))\n",
        "if number % 2 == 0:\n",
        "    print(f\"{number} is EVEN\")\n",
        "else:\n",
        "    print(f\"{number} is ODD\")"
      ],
      "metadata": {
        "colab": {
          "base_uri": "https://localhost:8080/"
        },
        "id": "PdKulOIGNo6b",
        "outputId": "d35ce6c1-35d7-44df-8919-905641203551"
      },
      "execution_count": null,
      "outputs": [
        {
          "output_type": "stream",
          "name": "stdout",
          "text": [
            "Enter number :4\n",
            "4 is EVEN\n"
          ]
        }
      ]
    },
    {
      "cell_type": "code",
      "source": [
        "# Positive, Negative, or Zero\n",
        "# Ask the user for a number and print whether it’s positive, negative, or zero.\n",
        "number = int(input(\"Enter number :\"))\n",
        "if number > 0:\n",
        "    print(f\"{number} is positive\")\n",
        "elif number == 0:\n",
        "    print(f\"{number} is zero\")\n",
        "elif number < 0:\n",
        "    print(f\"{number} is negative\")\n"
      ],
      "metadata": {
        "colab": {
          "base_uri": "https://localhost:8080/"
        },
        "id": "drNvmXvvNtkp",
        "outputId": "d0d8fb87-e5b6-4c5b-f2dd-69cc212ff485"
      },
      "execution_count": null,
      "outputs": [
        {
          "output_type": "stream",
          "name": "stdout",
          "text": [
            "Enter number :56\n",
            "56 is positive\n"
          ]
        }
      ]
    },
    {
      "cell_type": "code",
      "source": [
        "# Compare Two Numbers\n",
        "# Ask the user to enter two numbers and print which one is larger or if they’re equal.\n",
        "number1 = int(input(\"Enter number 1:\"))\n",
        "number2 = int(input(\"Enter number 2 :\"))\n",
        "if number1 > number2:\n",
        "    print(f\"{number1} is greater\")\n",
        "elif number1 == number2:\n",
        "    print(f\"{number1} is equal to {number2}\")\n",
        "elif number1 < number2:\n",
        "    print(f\"{number2} is greater\")\n"
      ],
      "metadata": {
        "id": "difq-zPLOFzh"
      },
      "execution_count": null,
      "outputs": []
    },
    {
      "cell_type": "code",
      "source": [
        "# Grading System\n",
        "# Ask for a score (0–100) and print:\n",
        "score = int(input(\"Enter score :\"))\n",
        "if score >= 80:\n",
        "    Grade = \"A\"\n",
        "elif score >= 60:\n",
        "    Grade = \"B\"\n",
        "elif score >= 40:\n",
        "    Grade = \"C\"\n",
        "else:\n",
        "  Grade = \"F\"\n",
        "\n",
        "print(f\"Your Grade is {Grade}\")\n",
        "\n"
      ],
      "metadata": {
        "id": "t93jD5cmO0A4"
      },
      "execution_count": null,
      "outputs": []
    },
    {
      "cell_type": "code",
      "source": [
        "# Check Leap Year\n",
        "# Ask for a year and check if it’s a leap year.\n",
        "year = int(input(\"Enter a year:\"))\n",
        "if(year % 4 ==0) and (year % 100 != 0):\n",
        "  print(f\"{year} is a leap year\")\n",
        "else:\n",
        "    print(f\"{year} is not a leap year\")"
      ],
      "metadata": {
        "id": "3FRdy0dOQBE9"
      },
      "execution_count": null,
      "outputs": []
    },
    {
      "cell_type": "code",
      "source": [
        "# Print Numbers from 1 to 10\n",
        "# Use a for loop to print numbers 1 through 10.\n",
        "for i in range(1,11):\n",
        "  print(i)"
      ],
      "metadata": {
        "id": "sZZIg3VpQ78K"
      },
      "execution_count": null,
      "outputs": []
    },
    {
      "cell_type": "code",
      "source": [
        "# Sum of First N Numbers\n",
        "# Ask the user for a number n and print the sum of numbers from 1 to n.\n",
        "n = int(input(\"Enter a number :\"))\n",
        "# Initialize sum\n",
        "total = 0\n",
        "for i in range(1,n+1):\n",
        "    total += i\n",
        "\n",
        "print(f\"The sum of numbers from 1 to {n} is: {total}\")"
      ],
      "metadata": {
        "id": "2r3v7BpvRfnr"
      },
      "execution_count": null,
      "outputs": []
    },
    {
      "cell_type": "code",
      "source": [
        "# Multiplication Table\n",
        "# Ask for a number and print its multiplication table up to 10.\n",
        "base_number = int(input(\"Enter a number :\"))\n",
        "for i in range(1,11):\n",
        "  print(f\"{base_number} X {i} = {base_number * i}\")"
      ],
      "metadata": {
        "id": "jG7ef3g7SNXS"
      },
      "execution_count": null,
      "outputs": []
    },
    {
      "cell_type": "code",
      "source": [
        "# Count Digits in a Number\n",
        "# Ask the user for a number and use a while loop to count how many digits it has.\n",
        "num = int(input(\"Enter a number: \"))\n",
        "count = 0\n",
        "temp = abs(num)   # handle negative numbers\n",
        "if temp == 0:\n",
        "    count = 1\n",
        "else:\n",
        "    while temp > 0:\n",
        "        temp //= 10   # remove the last digit\n",
        "        count += 1\n",
        "print(f\"The number {num} has {count} digits.\")\n"
      ],
      "metadata": {
        "id": "DtW0s3QMS-Ni"
      },
      "execution_count": null,
      "outputs": []
    },
    {
      "cell_type": "code",
      "source": [
        "# Find Factorial (using Loop)\n",
        "# Ask for a number and find its factorial using a loop.\n",
        "num = int(input(\"Enter a number: \"))\n",
        "factorial = 1\n",
        "\n",
        "if num < 0:\n",
        "    print(\"Factorial does not exist for negative numbers.\")\n",
        "elif num == 0:\n",
        "    print(\"The factorial of 0 is 1.\")\n",
        "else:\n",
        "    for i in range(1, num + 1):\n",
        "        factorial *= i\n",
        "    print(f\"The factorial of {num} is {factorial}.\")\n"
      ],
      "metadata": {
        "id": "b4Z2P0GiT6A7"
      },
      "execution_count": null,
      "outputs": []
    },
    {
      "cell_type": "code",
      "source": [
        "# Find Prime Numbers (1–50)\n",
        "# Use nested loops to print all prime numbers between 1 and 50.\n",
        "print(\"Prime numbers between 1 and 50 are:\")\n",
        "for num in range(2, 51):          # Outer loop: numbers from 2 to 50\n",
        "    for i in range(2, num):       # Inner loop: check divisors\n",
        "        if num % i == 0:          # If divisible, not prime\n",
        "            break\n",
        "    else:\n",
        "        print(num)\n"
      ],
      "metadata": {
        "id": "s5-ukBSRUz4z"
      },
      "execution_count": null,
      "outputs": []
    },
    {
      "cell_type": "code",
      "source": [
        "# Check for Prime Number\n",
        "# Ask the user for a number and check (using nested loops) if it’s prime or not.\n",
        "num = int(input(\"Enter a number: \"))\n",
        "if num > 1:\n",
        "    for i in range(2, num):\n",
        "        if num % i == 0:\n",
        "            print(f\"{num} is NOT a prime number (divisible by {i}).\")\n",
        "            break\n",
        "    else:\n",
        "        print(f\"{num} is a PRIME number (divisible only by 1 and itself).\")\n",
        "else:\n",
        "    print(\"Number must be greater than 1.\")\n"
      ],
      "metadata": {
        "id": "Ix_6PmkOVFkL"
      },
      "execution_count": null,
      "outputs": []
    },
    {
      "cell_type": "code",
      "source": [
        "# List Common Elements\n",
        "# Given two lists, use nested loops to print elements that appear in both lists.\n",
        "# Define two lists\n",
        "list1 = [1, 2, 3, 4, 5]\n",
        "list2 = [4, 5, 6, 7, 8]\n",
        "print(\"Common elements:\")\n",
        "# Nested loops to check for matches\n",
        "for i in list1:\n",
        "    for j in list2:\n",
        "        if i == j:\n",
        "            print(i)\n"
      ],
      "metadata": {
        "id": "VT_u3sztVYkz"
      },
      "execution_count": null,
      "outputs": []
    },
    {
      "cell_type": "code",
      "source": [
        "# Find Duplicate Items\n",
        "# Given a list, use nested loops to find duplicate values.\n",
        "# Sample list\n",
        "numbers = [2, 4, 5, 2, 3, 5, 7, 8, 3]\n",
        "\n",
        "print(\"Duplicate items are:\")\n",
        "\n",
        "# Nested loops to find duplicates\n",
        "for i in range(len(numbers)):\n",
        "    for j in range(i + 1, len(numbers)):\n",
        "        if numbers[i] == numbers[j]:\n",
        "            print(numbers[i])\n",
        "            break   # stop checking further duplicates for the same value\n"
      ],
      "metadata": {
        "id": "6Skaoiz7VzDq"
      },
      "execution_count": null,
      "outputs": []
    },
    {
      "cell_type": "code",
      "source": [
        "# Compare Two Strings\n",
        "# Use nested loops to compare characters of two strings and print common letters.\n",
        "str1 = input(\"Enter first string\")\n",
        "str2 = input(\"Enter second string\")\n",
        "for ch1 in str1:\n",
        "  for ch2 in str2:\n",
        "    if ch1 == ch2:\n",
        "     print(f\"commin characters are: {ch1}\");\n"
      ],
      "metadata": {
        "id": "EM_U5LUeWJv7"
      },
      "execution_count": null,
      "outputs": []
    },
    {
      "cell_type": "code",
      "source": [
        "# Sum of List Elements\n",
        "# Create a list of numbers and use a loop to find the total sum.\n",
        "numbers = [2, 12, 16, 1, 5, 3]\n",
        "sum = 0\n",
        "for num in numbers:\n",
        "  sum += num\n",
        "\n",
        "print(\"The total sum is:\", sum)\n"
      ],
      "metadata": {
        "id": "KdadCa-qW0W7"
      },
      "execution_count": null,
      "outputs": []
    },
    {
      "cell_type": "code",
      "source": [
        "# Count Vowels in a Word\n",
        "# Ask for a word and count the number of vowels in it.\n",
        "word = input(\"Enter a word to count vowels in :\")\n",
        "vowels = \"aeiouAEIOU\"\n",
        "count = 0\n",
        "\n",
        "for ch in word:\n",
        "  if ch in vowels:\n",
        "    count += 1\n",
        "\n",
        "print(f\"The word '{word}' has {count} vowel(s).\")\n"
      ],
      "metadata": {
        "id": "dXReTT-pgU-d"
      },
      "execution_count": null,
      "outputs": []
    },
    {
      "cell_type": "code",
      "source": [
        "# Find Maximum in a List\n",
        "# Find the largest number in a list without using max().\n",
        "numbers = [12, 45,21,390, 455,12,2]\n",
        "# assume first number is largest\n",
        "largest = numbers[0]\n",
        "\n",
        "for num in numbers:\n",
        "    if num > largest:\n",
        "        largest = num\n",
        "\n",
        "print(\"The largest number is:\", largest)"
      ],
      "metadata": {
        "id": "VRuXV0YJiABN"
      },
      "execution_count": null,
      "outputs": []
    },
    {
      "cell_type": "code",
      "source": [
        "# Reverse a String\n",
        "# Ask for a string and print it in reverse order.\n",
        "revstr = input(\"Enter a string to reverse :\")\n",
        "\n",
        "rev = \"\"\n",
        "for ch in revstr:\n",
        "  rev = ch + rev\n",
        "\n",
        "print(rev)"
      ],
      "metadata": {
        "id": "rwIorT2GkNh_"
      },
      "execution_count": null,
      "outputs": []
    },
    {
      "cell_type": "code",
      "source": [
        "# Word Frequency Counter\n",
        "# Ask for a sentence and use a dictionary to count how many times each word appears.\n",
        "sentence = input(\"Enter a sentence to count: \")\n",
        "# Split the sentence into words\n",
        "words = sentence.split()\n",
        "\n",
        "# Create an empty dictionary to store word counts\n",
        "word_count = {}\n",
        "# Loop through each word and count\n",
        "for word in words:\n",
        "    # Convert word to lowercase for consistent counting\n",
        "    word = word.lower()\n",
        "    if word in word_count:\n",
        "        word_count[word] += 1\n",
        "    else:\n",
        "        word_count[word] = 1\n",
        "\n",
        "# Print word frequencies\n",
        "print(\"\\nWord Frequency:\")\n",
        "for word, count in word_count.items():\n",
        "    print(f\"{word}: {count}\")"
      ],
      "metadata": {
        "id": "6PppzDBYlY6_",
        "colab": {
          "base_uri": "https://localhost:8080/"
        },
        "outputId": "b40f6e4b-9731-47e8-b51b-b7f72ade8676"
      },
      "execution_count": 86,
      "outputs": [
        {
          "output_type": "stream",
          "name": "stdout",
          "text": [
            "Enter a sentence to count: tyrrr\n",
            "\n",
            "Word Frequency:\n",
            "tyrrr: 1\n"
          ]
        }
      ]
    },
    {
      "cell_type": "code",
      "source": [
        "# 5. FUNCTIONS\n",
        "# Greeting Function\n",
        "# Write a function called greet() that prints a simple greeting message.\n",
        "def greet():\n",
        "    print(\"Hello Sir!\")\n",
        "greet();\n"
      ],
      "metadata": {
        "id": "wVCnM7nem4QP"
      },
      "execution_count": null,
      "outputs": []
    },
    {
      "cell_type": "code",
      "source": [
        "# Sum Function\n",
        "# Write a function that takes two numbers and returns their sum.\n",
        "def addTwonumbers(num1, num2):\n",
        "  return num1 + num2\n",
        "\n",
        "addTwonumbers(12,3)"
      ],
      "metadata": {
        "id": "oVSyZUXuno8Y"
      },
      "execution_count": null,
      "outputs": []
    },
    {
      "cell_type": "code",
      "source": [
        "# Even or Odd Function\n",
        "# Write a function that takes a number and returns “Even” or “Odd”.\n",
        "numbering = int(input(\"Enter a number: \"))\n",
        "def checkNumber(numbering):\n",
        "  if numbering % 2 == 0:\n",
        "    print(\"The number is even\")\n",
        "  else:\n",
        "      print(\"The number is odd\")\n",
        "\n",
        "checkNumber(numbering)"
      ],
      "metadata": {
        "id": "DoUPnqafoP3h"
      },
      "execution_count": null,
      "outputs": []
    },
    {
      "cell_type": "code",
      "source": [
        "# Find Minimum in List Function\n",
        "# Write a function that takes a list of numbers and returns the smallest one.\n",
        "least_number = [12,1,23,-4,12,65,344]\n",
        "small = least_number[0]\n",
        "\n",
        "for num in least_number:\n",
        "    if num < small:\n",
        "        small = num\n",
        "\n",
        "print(\"The smallest number is:\", small)"
      ],
      "metadata": {
        "id": "I2e1ToOYpRn3"
      },
      "execution_count": null,
      "outputs": []
    },
    {
      "cell_type": "code",
      "source": [
        "# Count Letters Function\n",
        "# Write a function that takes a string and returns how many letters it contains (ignore spaces).\n",
        "def count_letters(text):\n",
        "    count = 0\n",
        "    for ch in text:\n",
        "        if ch != \" \":\n",
        "            count += 1\n",
        "    return count\n",
        "\n",
        "# Ask user for input\n",
        "sentence = input(\"Enter a string: \")\n",
        "\n",
        "# Call the function\n",
        "letters = count_letters(sentence)\n",
        "\n",
        "print(\"The string contains\", letters, \"letters (excluding spaces).\")\n"
      ],
      "metadata": {
        "id": "-EjoeEp2p3PR"
      },
      "execution_count": null,
      "outputs": []
    }
  ]
}