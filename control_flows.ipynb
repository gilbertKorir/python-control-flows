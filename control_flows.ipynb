{
 "cells": [
  {
   "cell_type": "code",
   "execution_count": null,
   "id": "de8c4dd1",
   "metadata": {},
   "outputs": [],
   "source": [
    "# Grading System\n",
    "# Ask for a score (0–100) and print:\n",
    "score = int(input(\"Enter score :\"))\n",
    "if score >= 80:\n",
    "    Grade = \"A\"\n",
    "elif score >= 60:\n",
    "    Grade = \"B\"\n",
    "elif score >= 40:\n",
    "    Grade = \"C\"\n",
    "else:\n",
    "  Grade = \"F\"\n",
    "\n",
    "print(f\"Your Grade is {Grade}\")\n",
    "\n"
   ]
  }
 ],
 "metadata": {
  "kernelspec": {
   "display_name": "Python 3",
   "language": "python",
   "name": "python3"
  },
  "language_info": {
   "codemirror_mode": {
    "name": "ipython",
    "version": 3
   },
   "file_extension": ".py",
   "mimetype": "text/x-python",
   "name": "python",
   "nbconvert_exporter": "python",
   "pygments_lexer": "ipython3",
   "version": "3.13.7"
  }
 },
 "nbformat": 4,
 "nbformat_minor": 5
}
