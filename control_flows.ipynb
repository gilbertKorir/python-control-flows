{
 "cells": [
  {
   "cell_type": "code",
   "execution_count": 3,
   "id": "de8c4dd1",
   "metadata": {},
   "outputs": [
    {
     "ename": "ValueError",
     "evalue": "invalid literal for int() with base 10: ''",
     "output_type": "error",
     "traceback": [
      "\u001b[31m---------------------------------------------------------------------------\u001b[39m",
      "\u001b[31mValueError\u001b[39m                                Traceback (most recent call last)",
      "\u001b[36mCell\u001b[39m\u001b[36m \u001b[39m\u001b[32mIn[3]\u001b[39m\u001b[32m, line 3\u001b[39m\n\u001b[32m      1\u001b[39m \u001b[38;5;66;03m# Grading System\u001b[39;00m\n\u001b[32m      2\u001b[39m \u001b[38;5;66;03m# Ask for a score (0–100) and print:\u001b[39;00m\n\u001b[32m----> \u001b[39m\u001b[32m3\u001b[39m score = \u001b[38;5;28;43mint\u001b[39;49m\u001b[43m(\u001b[49m\u001b[38;5;28;43minput\u001b[39;49m\u001b[43m(\u001b[49m\u001b[33;43m\"\u001b[39;49m\u001b[33;43mEnter score :\u001b[39;49m\u001b[33;43m\"\u001b[39;49m\u001b[43m)\u001b[49m\u001b[43m)\u001b[49m\n\u001b[32m      4\u001b[39m \u001b[38;5;28;01mif\u001b[39;00m score >= \u001b[32m80\u001b[39m:\n\u001b[32m      5\u001b[39m     Grade = \u001b[33m\"\u001b[39m\u001b[33mA\u001b[39m\u001b[33m\"\u001b[39m\n",
      "\u001b[31mValueError\u001b[39m: invalid literal for int() with base 10: ''"
     ]
    }
   ],
   "source": [
    "# Grading System\n",
    "# Ask for a score (0–100) and print:\n",
    "score = int(input(\"Enter score :\"))\n",
    "if score >= 80:\n",
    "    Grade = \"A\"\n",
    "elif score >= 60:\n",
    "    Grade = \"B\"\n",
    "elif score >= 40:\n",
    "    Grade = \"C\"\n",
    "else:\n",
    "  Grade = \"F\"\n",
    "\n",
    "print(f\"Your Grade is {Grade}\")\n",
    "\n"
   ]
  }
 ],
 "metadata": {
  "kernelspec": {
   "display_name": "Python 3",
   "language": "python",
   "name": "python3"
  },
  "language_info": {
   "codemirror_mode": {
    "name": "ipython",
    "version": 3
   },
   "file_extension": ".py",
   "mimetype": "text/x-python",
   "name": "python",
   "nbconvert_exporter": "python",
   "pygments_lexer": "ipython3",
   "version": "3.13.7"
  }
 },
 "nbformat": 4,
 "nbformat_minor": 5
}
