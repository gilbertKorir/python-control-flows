{
 "cells": [
  {
   "cell_type": "code",
   "execution_count": 1,
   "id": "9347f494",
   "metadata": {},
   "outputs": [
    {
     "data": {
      "text/plain": [
       "90"
      ]
     },
     "execution_count": 1,
     "metadata": {},
     "output_type": "execute_result"
    }
   ],
   "source": [
    "class Students:\n",
    "    def __init__(self, name, age, grade):\n",
    "        self.name = name\n",
    "        self.age = age\n",
    "        self.grade = grade\n",
    "\n",
    "    def get_grade(self):\n",
    "        return self.grade\n",
    "\n",
    "s1 = Students(\"Alice\", 20, 90)\n",
    "\n",
    "s1.get_grade()  # This will return 90\n"
   ]
  },
  {
   "cell_type": "code",
   "execution_count": 1,
   "id": "79f1d7e0",
   "metadata": {},
   "outputs": [
    {
     "name": "stdout",
     "output_type": "stream",
     "text": [
      "My name is: Tom\n",
      "My name is: Jerry\n"
     ]
    }
   ],
   "source": [
    "class Robots:\n",
    "    def __init__(self, name, color,weight):\n",
    "        self.name = name\n",
    "        self.color = color\n",
    "        self.weight = weight\n",
    "    \n",
    "    def introduce_self(self):\n",
    "        print(f\"My name is:\", self.name)\n",
    "    \n",
    "r1= Robots(\"Tom\",\"red\",35)\n",
    "r2= Robots(\"Jerry\",\"blue\",40)\n",
    "\n",
    "r1.introduce_self()\n",
    "r2.introduce_self()"
   ]
  },
  {
   "cell_type": "code",
   "execution_count": 3,
   "id": "fbedc9d8",
   "metadata": {},
   "outputs": [],
   "source": [
    "#deposit withdraw money \n",
    "class BankAccounts:\n",
    "    def __init__(self, account_holder, balance=0):\n",
    "        self.account_holder = account_holder\n",
    "        self.balance = balance\n",
    "    \n",
    "    #deposit money\n",
    "    def deposit(self, amount):\n",
    "        self.balance += amount\n",
    "        return f\"Deposited {amount}. New balance {self.balance}\"\n",
    "    \n",
    "    # withdraw\n",
    "    def deposit(self, amount):\n",
    "        if amount > self.balance:\n",
    "            return \"Insufficient funds\"\n",
    "        self.balance -= amount\n",
    "        return f\"Withdrew {amount}. New balance is {self.balance}\"\n",
    "\n",
    "    def enquire(self, amount):\n",
    "        print(f\"Current balance: {self.balance}\")\n",
    "    \n",
    "#initial \n",
    "my_account = BankAccounts(\"John\", 1000)"
   ]
  },
  {
   "cell_type": "code",
   "execution_count": null,
   "id": "0f1d7bc3",
   "metadata": {},
   "outputs": [],
   "source": [
    "# withdraw\n",
    "w_amt = float(input(\"Enter amount to deposit\"))\n",
    "print(my_account.withdraw(w_amt))"
   ]
  },
  {
   "cell_type": "code",
   "execution_count": null,
   "id": "2971b5cf",
   "metadata": {},
   "outputs": [],
   "source": [
    "#deposit\n",
    "amt = float(input(\"Enter amount to deposit\"))\n",
    "print(my_account.deposit(amt))"
   ]
  },
  {
   "cell_type": "code",
   "execution_count": 5,
   "id": "4000c75f",
   "metadata": {},
   "outputs": [
    {
     "ename": "TypeError",
     "evalue": "BankAccounts.enquire() missing 1 required positional argument: 'amount'",
     "output_type": "error",
     "traceback": [
      "\u001b[31m---------------------------------------------------------------------------\u001b[39m",
      "\u001b[31mTypeError\u001b[39m                                 Traceback (most recent call last)",
      "\u001b[36mCell\u001b[39m\u001b[36m \u001b[39m\u001b[32mIn[5]\u001b[39m\u001b[32m, line 2\u001b[39m\n\u001b[32m      1\u001b[39m \u001b[38;5;66;03m# enquire\u001b[39;00m\n\u001b[32m----> \u001b[39m\u001b[32m2\u001b[39m \u001b[38;5;28mprint\u001b[39m(\u001b[43mmy_account\u001b[49m\u001b[43m.\u001b[49m\u001b[43menquire\u001b[49m\u001b[43m(\u001b[49m\u001b[43m)\u001b[49m)\n",
      "\u001b[31mTypeError\u001b[39m: BankAccounts.enquire() missing 1 required positional argument: 'amount'"
     ]
    }
   ],
   "source": [
    "# enquire\n",
    "print(my_account.enquire())"
   ]
  }
 ],
 "metadata": {
  "kernelspec": {
   "display_name": "Python 3",
   "language": "python",
   "name": "python3"
  },
  "language_info": {
   "codemirror_mode": {
    "name": "ipython",
    "version": 3
   },
   "file_extension": ".py",
   "mimetype": "text/x-python",
   "name": "python",
   "nbconvert_exporter": "python",
   "pygments_lexer": "ipython3",
   "version": "3.13.7"
  }
 },
 "nbformat": 4,
 "nbformat_minor": 5
}
