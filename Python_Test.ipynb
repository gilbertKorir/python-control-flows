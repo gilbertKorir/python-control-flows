{
  "cells": [
    {
      "cell_type": "code",
      "execution_count": 1,
      "metadata": {
        "colab": {
          "base_uri": "https://localhost:8080/"
        },
        "id": "G-5qubyh11T5",
        "outputId": "c2b6e9c0-342a-4f6a-d37d-573b0bfac795"
      },
      "outputs": [
        {
          "name": "stdout",
          "output_type": "stream",
          "text": [
            "My name is Gilbert Korir\n"
          ]
        }
      ],
      "source": [
        "# Section A: Data Types & Basic Operations (1–10)\n",
        "# Create a variable called name and assign it your name. Print it.\n",
        "name = \"Gilbert Korir\"\n",
        "print(f\"My name is {name}\")\n"
      ]
    },
    {
      "cell_type": "code",
      "execution_count": 2,
      "metadata": {
        "colab": {
          "base_uri": "https://localhost:8080/"
        },
        "id": "K4CpR_5d5VAf",
        "outputId": "05107a7b-3890-467c-8947-ff8a64a97867"
      },
      "outputs": [
        {
          "name": "stdout",
          "output_type": "stream",
          "text": [
            "Enter first number: 23\n",
            "Enter first number: 12\n",
            "Sum: 35, Difference: 11, Product: 276, Division:1.9166666666666667\n"
          ]
        }
      ],
      "source": [
        "# Create two integer variables and print their sum, difference, product, and division.\n",
        "num1 = int(input(\"Enter first number: \"))\n",
        "num2 = int(input(\"Enter first number: \"))\n",
        "\n",
        "print(f\"Sum: {num1+num2}, Difference: {abs(num1 - num2)}, Product: {num1*num2}, Division:{num1/num2}\")"
      ]
    },
    {
      "cell_type": "code",
      "execution_count": null,
      "metadata": {
        "colab": {
          "base_uri": "https://localhost:8080/"
        },
        "id": "Hh9BqA6Z5fQG",
        "outputId": "65929bf6-7a2d-4f33-c98f-67961a1cbb22"
      },
      "outputs": [],
      "source": [
        "# Write a program to swap two numbers without using a third variable.\n",
        "# Ask user for input\n",
        "a = int(input(\"Enter first number: \"))\n",
        "b = int(input(\"Enter second number: \"))\n",
        "\n",
        "# Swap using arithmetic operations\n",
        "a = a + b\n",
        "b = a - b\n",
        "a = a - b\n",
        "\n",
        "print(\"First number:\", a)\n",
        "print(\"Second number:\", b)\n"
      ]
    },
    {
      "cell_type": "code",
      "execution_count": 5,
      "metadata": {
        "colab": {
          "base_uri": "https://localhost:8080/"
        },
        "id": "_Z8__xbN5gGW",
        "outputId": "1d02ab05-f63e-4a9c-a25f-cc1d5fabc6dd"
      },
      "outputs": [
        {
          "name": "stdout",
          "output_type": "stream",
          "text": [
            "Enter age: 4\n",
            "Minor\n"
          ]
        }
      ],
      "source": [
        "# Write a program that takes user input for age and prints “Adult” if age ≥ 18, otherwise “Minor”.\n",
        "age = int(input(\"Enter age: \"))\n",
        "if age >= 18:\n",
        "  print(f\"Adult\")\n",
        "else:\n",
        "  print(f\"Minor\")"
      ]
    },
    {
      "cell_type": "code",
      "execution_count": 6,
      "metadata": {
        "colab": {
          "base_uri": "https://localhost:8080/"
        },
        "id": "FsFUZre05hVm",
        "outputId": "43cca05c-5fe3-41d4-e377-1c5366b1ee1e"
      },
      "outputs": [
        {
          "name": "stdout",
          "output_type": "stream",
          "text": [
            "programming has 'g' 2 times\n"
          ]
        }
      ],
      "source": [
        "# Given a string \"programming\", print the number of times the letter 'g' appears.\n",
        "str1 = \"programming\"\n",
        "\n",
        "count = 0\n",
        "for ch in str1:\n",
        "  if ch == 'g':\n",
        "    count += 1\n",
        "\n",
        "print(f\"{str1} has 'g' {count} times\")"
      ]
    },
    {
      "cell_type": "code",
      "execution_count": 7,
      "metadata": {
        "colab": {
          "base_uri": "https://localhost:8080/"
        },
        "id": "lGChTFjF5hEm",
        "outputId": "beafb758-ae02-4f4c-9b88-73638e90922b"
      },
      "outputs": [
        {
          "name": "stdout",
          "output_type": "stream",
          "text": [
            "Result 125\n"
          ]
        }
      ],
      "source": [
        "# Write a program that converts a given string \"100\" to an integer and adds 25 to it.\n",
        "str1 = \"100\"\n",
        "new_num = int(str1)\n",
        "\n",
        "result = new_num + 25\n",
        "print(\"Result\", result)\n"
      ]
    },
    {
      "cell_type": "code",
      "execution_count": 10,
      "metadata": {
        "colab": {
          "base_uri": "https://localhost:8080/"
        },
        "id": "hRrCffSO5g6G",
        "outputId": "f400f10e-85fe-4b10-de27-e176016fac92"
      },
      "outputs": [
        {
          "name": "stdout",
          "output_type": "stream",
          "text": [
            "Largest number is : 9\n"
          ]
        }
      ],
      "source": [
        "# Write a program to find the largest number in the list [4, 9, 1, 7, 3].\n",
        "num_list = [4, 9, 1, 7, 3]\n",
        "\n",
        "#assume first number is large\n",
        "largest = num_list[0]\n",
        "\n",
        "for val in num_list:\n",
        "     if val > largest:\n",
        "      largest = val\n",
        "\n",
        "print(f\"Largest number is : {largest}\")\n"
      ]
    },
    {
      "cell_type": "code",
      "execution_count": 11,
      "metadata": {
        "colab": {
          "base_uri": "https://localhost:8080/"
        },
        "id": "7dX9wsmn5gtm",
        "outputId": "43a3fabe-1ffb-4ec8-8d4b-51738b94d7bb"
      },
      "outputs": [
        {
          "name": "stdout",
          "output_type": "stream",
          "text": [
            "Reversed list: [5, 4, 3, 2, 1]\n"
          ]
        }
      ],
      "source": [
        "# Write a program to reverse the list [1, 2, 3, 4, 5].\n",
        "num_list = [1, 2, 3, 4, 5]\n",
        "num_list.reverse()\n",
        "print(\"Reversed list:\", num_list)"
      ]
    },
    {
      "cell_type": "code",
      "execution_count": 12,
      "metadata": {
        "colab": {
          "base_uri": "https://localhost:8080/"
        },
        "id": "JgB5fdze5vQO",
        "outputId": "43c5785b-ed12-42cd-f5bd-4fa3757c6751"
      },
      "outputs": [
        {
          "name": "stdout",
          "output_type": "stream",
          "text": [
            "John's Age is:  27\n"
          ]
        }
      ],
      "source": [
        "# Create a dictionary with keys name, age, and country, and print the value of age.\n",
        "users = {\n",
        "    \"name\":\"John Bob\",\n",
        "    \"Age\": 27,\n",
        "    \"Country\":\"Israel\"\n",
        "}\n",
        "\n",
        "print(\"John's Age is: \", users[\"Age\"])"
      ]
    },
    {
      "cell_type": "code",
      "execution_count": 13,
      "metadata": {
        "colab": {
          "base_uri": "https://localhost:8080/"
        },
        "id": "9mof9CuP5vA_",
        "outputId": "6b68376d-23ca-4b23-c317-9ce2ce770cfd"
      },
      "outputs": [
        {
          "name": "stdout",
          "output_type": "stream",
          "text": [
            "[2, 4, 6, 8]\n"
          ]
        }
      ],
      "source": [
        "# Write a program to convert a tuple (2, 4, 6, 8) into a list and print it.\n",
        "tupple1 = (2, 4, 6, 8)\n",
        "a_list = list(tupple1)\n",
        "print(a_list)\n"
      ]
    },
    {
      "cell_type": "code",
      "execution_count": 14,
      "metadata": {
        "colab": {
          "base_uri": "https://localhost:8080/"
        },
        "id": "6meWWEeQBGBt",
        "outputId": "946d0ee8-bf83-4701-84ba-a27139f59606"
      },
      "outputs": [
        {
          "name": "stdout",
          "output_type": "stream",
          "text": [
            "Enter a number5\n",
            "Number is ODD\n"
          ]
        }
      ],
      "source": [
        "# Section B: Conditional Statements (11–18)\n",
        "# Write a program to check whether a number entered by the user is even or odd.\n",
        "number = int(input(\"Enter a number\"))\n",
        "if number % 2 ==0:\n",
        "  print(\"Number is EVEN\")\n",
        "else:\n",
        "  print(\"Number is ODD\")\n"
      ]
    },
    {
      "cell_type": "code",
      "execution_count": null,
      "metadata": {
        "id": "mvpwVwNOBLR8"
      },
      "outputs": [],
      "source": [
        "# Write a program to check if a given number is positive, negative, or zero.\n",
        "number = int(input(\"Enter number :\"))\n",
        "if number > 0:\n",
        "    print(f\"{number} is positive\")\n",
        "elif number == 0:\n",
        "    print(f\"{number} is zero\")\n",
        "elif number < 0:\n",
        "    print(f\"{number} is negative\")"
      ]
    },
    {
      "cell_type": "code",
      "execution_count": null,
      "metadata": {
        "id": "ETdUgLnEBLJe"
      },
      "outputs": [],
      "source": [
        "# Write a program to check if a given year is a leap year.\n",
        "year = int(input(\"Enter a year:\"))\n",
        "if(year % 4 ==0) and (year % 100 != 0):\n",
        "  print(f\"{year} is a leap year\")\n",
        "else:\n",
        "    print(f\"{year} is not a leap year\")"
      ]
    },
    {
      "cell_type": "code",
      "execution_count": 15,
      "metadata": {
        "colab": {
          "base_uri": "https://localhost:8080/"
        },
        "id": "RMdousLUBLAE",
        "outputId": "30c39489-9e09-4932-9edc-e0dd1f380371"
      },
      "outputs": [
        {
          "name": "stdout",
          "output_type": "stream",
          "text": [
            "Enter number 1:4\n",
            "Enter number 2 :9\n",
            "9 is greater\n"
          ]
        }
      ],
      "source": [
        "# Write a program that takes two numbers and prints which one is greater.\n",
        "number1 = int(input(\"Enter number 1:\"))\n",
        "number2 = int(input(\"Enter number 2 :\"))\n",
        "if number1 > number2:\n",
        "    print(f\"{number1} is greater\")\n",
        "elif number1 == number2:\n",
        "    print(f\"{number1} is equal to {number2}\")\n",
        "elif number1 < number2:\n",
        "    print(f\"{number2} is greater\")"
      ]
    },
    {
      "cell_type": "code",
      "execution_count": 17,
      "metadata": {
        "colab": {
          "base_uri": "https://localhost:8080/"
        },
        "id": "6gPVYq7sBK3M",
        "outputId": "01fe0808-a230-4f88-a23d-b62598e0e953"
      },
      "outputs": [
        {
          "name": "stdout",
          "output_type": "stream",
          "text": [
            "Enter marks :45\n",
            "This is a Fail\n"
          ]
        }
      ],
      "source": [
        "# Write a program that takes marks as input and prints “Pass” if marks ≥ 50, otherwise “Fail”.\n",
        "marks = int(input(\"Enter marks :\"))\n",
        "if marks >= 50:\n",
        "    Remark = \"Pass\"\n",
        "else:\n",
        "  Remark = \"Fail\"\n",
        "\n",
        "print(f\"This is a {Remark}\")"
      ]
    },
    {
      "cell_type": "code",
      "execution_count": 19,
      "metadata": {
        "colab": {
          "base_uri": "https://localhost:8080/"
        },
        "id": "ch7cEXPDBKtk",
        "outputId": "40b3990e-687a-45c0-b917-cbb98a9b428a"
      },
      "outputs": [
        {
          "name": "stdout",
          "output_type": "stream",
          "text": [
            "Enter a letter: e\n",
            "It is a vowel.\n"
          ]
        }
      ],
      "source": [
        "# Write a program that checks whether a character entered by the user is a vowel or consonant.\n",
        "# Ask user for a character\n",
        "ch = input(\"Enter a letter: \").lower()  # convert to lowercase\n",
        "\n",
        "# Check if it's a vowel\n",
        "if ch in ['a', 'e', 'i', 'o', 'u']:\n",
        "    print(\"It is a vowel.\")\n",
        "elif ch.isalpha():  # check if it's a letter\n",
        "    print(\"It is a consonant.\")\n",
        "else:\n",
        "    print(\"Invalid input! Please enter a letter.\")"
      ]
    },
    {
      "cell_type": "code",
      "execution_count": 21,
      "metadata": {
        "colab": {
          "base_uri": "https://localhost:8080/"
        },
        "id": "qj5DscX2BKkV",
        "outputId": "9469ab67-3632-4659-b6e2-faf3fe3cf600"
      },
      "outputs": [
        {
          "name": "stdout",
          "output_type": "stream",
          "text": [
            "Enter number 1:4\n",
            "Enter number 2 :4\n",
            "Enter number 3 :4\n",
            "All numbers are equal\n"
          ]
        }
      ],
      "source": [
        "\n",
        "# Write a program that takes three numbers and prints the largest among them.\n",
        "number1 = int(input(\"Enter number 1:\"))\n",
        "number2 = int(input(\"Enter number 2 :\"))\n",
        "number3 = int(input(\"Enter number 3 :\"))\n",
        "if (number1 > number2) and (number1 > number3):\n",
        "    print(f\"{number1} is greatest\")\n",
        "elif (number2 > number1) and (number2 > number3):\n",
        "  print(f\"{number2} is greatest\")\n",
        "elif (number3 > number1) and (number3 > number2):\n",
        "  print(f\"{number3} is greatest\")\n",
        "else:\n",
        "  print(\"All numbers are equal\")"
      ]
    },
    {
      "cell_type": "code",
      "execution_count": 23,
      "metadata": {
        "colab": {
          "base_uri": "https://localhost:8080/"
        },
        "id": "6Y7ktLPoBKat",
        "outputId": "56f1b522-e95f-4e58-c916-2deb2ad7e267"
      },
      "outputs": [
        {
          "name": "stdout",
          "output_type": "stream",
          "text": [
            "Enter number:15\n",
            "True\n"
          ]
        }
      ],
      "source": [
        "# Write a program that checks if a number is divisible by both 3 and 5.\n",
        "number = int(input(\"Enter number:\"))\n",
        "if (number %3 == 0 and number % 5 ==0):\n",
        "  print(\"True\")\n",
        "else:\n",
        "  print(\"False\")"
      ]
    },
    {
      "cell_type": "code",
      "execution_count": 24,
      "metadata": {
        "colab": {
          "base_uri": "https://localhost:8080/"
        },
        "id": "jUusZTixHYbL",
        "outputId": "d9ece14b-aa65-4128-81a0-f707a8aa9d6c"
      },
      "outputs": [
        {
          "name": "stdout",
          "output_type": "stream",
          "text": [
            "1\n",
            "2\n",
            "3\n",
            "4\n",
            "5\n",
            "6\n",
            "7\n",
            "8\n",
            "9\n",
            "10\n"
          ]
        }
      ],
      "source": [
        "# Section C: Loops & Nested Loops (19–28)\n",
        "# Write a program that prints numbers from 1 to 10 using a for loop.\n",
        "for i in range(1,11):\n",
        "  print(i)"
      ]
    },
    {
      "cell_type": "code",
      "execution_count": 25,
      "metadata": {
        "colab": {
          "base_uri": "https://localhost:8080/"
        },
        "id": "rtQVe1UrHjpS",
        "outputId": "9f03d23c-5441-4927-8a24-7e32a0a5863f"
      },
      "outputs": [
        {
          "name": "stdout",
          "output_type": "stream",
          "text": [
            "2\n",
            "4\n",
            "6\n",
            "8\n",
            "10\n",
            "12\n",
            "14\n",
            "16\n",
            "18\n",
            "20\n"
          ]
        }
      ],
      "source": [
        "# Write a program that prints all even numbers from 1 to 20.\n",
        "for i in range(1,21):\n",
        "  if i%2 == 0:\n",
        "    print(i)"
      ]
    },
    {
      "cell_type": "code",
      "execution_count": 31,
      "metadata": {
        "colab": {
          "base_uri": "https://localhost:8080/"
        },
        "id": "WvTgjIM9Hk7L",
        "outputId": "73791fa9-080e-4f8a-a4a8-2a26e208ef5d"
      },
      "outputs": [
        {
          "name": "stdout",
          "output_type": "stream",
          "text": [
            "The sum of numbers from 1 to 100 is: 5050\n"
          ]
        }
      ],
      "source": [
        "# Write a program that calculates the sum of all numbers from 1 to 100 using a for loop.\n",
        "total = 0\n",
        "\n",
        "for i in range(1,101):\n",
        "      total += i\n",
        "\n",
        "print(f\"The sum of numbers from 1 to 100 is: {total}\")"
      ]
    },
    {
      "cell_type": "code",
      "execution_count": 32,
      "metadata": {
        "colab": {
          "base_uri": "https://localhost:8080/"
        },
        "id": "ORRvHmN_HkzD",
        "outputId": "5f4be9c7-36d8-4526-d19f-e01b2c77ac24"
      },
      "outputs": [
        {
          "name": "stdout",
          "output_type": "stream",
          "text": [
            "P\n",
            "Y\n",
            "T\n",
            "H\n",
            "O\n",
            "N\n"
          ]
        }
      ],
      "source": [
        "# Write a program that prints each letter of the word \"PYTHON\" on a new line\n",
        "str = \"PYTHON\"\n",
        "\n",
        "for ch in str:\n",
        "  print(ch)"
      ]
    },
    {
      "cell_type": "code",
      "execution_count": 36,
      "metadata": {
        "colab": {
          "base_uri": "https://localhost:8080/"
        },
        "id": "6eSHhKkkHkpa",
        "outputId": "15dbffd9-b96d-4b54-e21b-d688404bdb3b"
      },
      "outputs": [
        {
          "name": "stdout",
          "output_type": "stream",
          "text": [
            "Numbers divisible by 5 are :  10\n"
          ]
        }
      ],
      "source": [
        "# Write a program that counts how many numbers between 1 and 50 are divisible by 5.\n",
        "count = 0\n",
        "for i in range(1, 51):\n",
        "  if i % 5 == 0:\n",
        "    count += 1\n",
        "\n",
        "print(\"Numbers divisible by 5 are : \", count)"
      ]
    },
    {
      "cell_type": "code",
      "execution_count": 37,
      "metadata": {
        "colab": {
          "base_uri": "https://localhost:8080/"
        },
        "id": "riMz5m5AHqly",
        "outputId": "8df2f49d-34fa-42af-c876-779082c2ccdc"
      },
      "outputs": [
        {
          "name": "stdout",
          "output_type": "stream",
          "text": [
            "paul\n",
            "Ken\n",
            "John\n",
            "Alice\n"
          ]
        }
      ],
      "source": [
        "# Write a program that prints all elements of a list using a while loop.\n",
        "list1 = [\"paul\", \"Ken\", \"John\", \"Alice\"]\n",
        "index = 0\n",
        "\n",
        "while index < len(list1):\n",
        "  print(list1[index])\n",
        "  index += 1"
      ]
    },
    {
      "cell_type": "code",
      "execution_count": 43,
      "metadata": {
        "colab": {
          "base_uri": "https://localhost:8080/"
        },
        "id": "7OGm64qCHqgb",
        "outputId": "c63142a8-2c67-467c-bd53-8223298fb4b5"
      },
      "outputs": [
        {
          "name": "stdout",
          "output_type": "stream",
          "text": [
            "Enter a number : 6\n",
            "The factorial of 6 is 720.\n"
          ]
        }
      ],
      "source": [
        "# Write a program that finds the factorial of a given number using a loop.\n",
        "number = int(input(\"Enter a number : \"))\n",
        "factorial = 1\n",
        "\n",
        "if number < 0:\n",
        "    print(\"No factorial for a negative number\")\n",
        "elif number == 0:\n",
        "    print(\"Factorial for 0 is 1\")\n",
        "else:\n",
        "  for i in range(1, number + 1):\n",
        "    factorial *= i\n",
        "\n",
        "print(f\"The factorial of {number} is {factorial}.\")"
      ]
    },
    {
      "cell_type": "code",
      "execution_count": 44,
      "metadata": {
        "colab": {
          "base_uri": "https://localhost:8080/"
        },
        "id": "EmNlr5RKHqW7",
        "outputId": "367d6109-f661-4753-abbb-66d84d207adc"
      },
      "outputs": [
        {
          "name": "stdout",
          "output_type": "stream",
          "text": [
            "6\n",
            "12\n",
            "18\n",
            "24\n",
            "30\n"
          ]
        }
      ],
      "source": [
        "# Write a program that prints all numbers between 1 and 30 that are divisible by both 2 and 3.\n",
        "for i in range(1, 31):\n",
        "  if (i % 2 == 0) and (i% 3 ==0):\n",
        "    print(i)"
      ]
    },
    {
      "cell_type": "code",
      "execution_count": 46,
      "metadata": {
        "colab": {
          "base_uri": "https://localhost:8080/"
        },
        "id": "dEZ_3ogSHv0K",
        "outputId": "28d1c309-a5ca-4e94-c4f4-a1f7d93a7d57"
      },
      "outputs": [
        {
          "name": "stdout",
          "output_type": "stream",
          "text": [
            "1\n",
            "4\n",
            "9\n",
            "16\n",
            "25\n",
            "36\n",
            "49\n",
            "64\n",
            "81\n",
            "100\n"
          ]
        }
      ],
      "source": [
        "# Write a program that prints the squares of all numbers from 1 to 10.\n",
        "for i in range(1,11):\n",
        "  i = i*i\n",
        "  print(i)\n"
      ]
    },
    {
      "cell_type": "code",
      "execution_count": 47,
      "metadata": {
        "colab": {
          "base_uri": "https://localhost:8080/"
        },
        "id": "iHPkjcuZHvnC",
        "outputId": "8b3e140e-ed13-4085-d997-d0d537b4012e"
      },
      "outputs": [
        {
          "name": "stdout",
          "output_type": "stream",
          "text": [
            "(1, 1)\n",
            "(1, 2)\n",
            "(1, 3)\n",
            "(2, 1)\n",
            "(2, 2)\n",
            "(2, 3)\n",
            "(3, 1)\n",
            "(3, 2)\n",
            "(3, 3)\n"
          ]
        }
      ],
      "source": [
        "# Write a program using nested loops to print all pairs (i, j) where i and j range from 1 to 3.\n",
        "for i in range(1,4):\n",
        "  for j in range(1,4):\n",
        "    print(f\"({i}, {j})\")"
      ]
    },
    {
      "cell_type": "code",
      "execution_count": 49,
      "metadata": {
        "colab": {
          "base_uri": "https://localhost:8080/"
        },
        "id": "ZrkVtMWfOUpo",
        "outputId": "c1b2368b-e711-4132-fedd-5c1e03722db4"
      },
      "outputs": [
        {
          "name": "stdout",
          "output_type": "stream",
          "text": [
            "Hello World!\n"
          ]
        }
      ],
      "source": [
        "# Section D: Functions (29–36)\n",
        "# Write a function called greet() that prints “Hello, World!”.\n",
        "def greet():\n",
        "  print(\"Hello World!\")\n",
        "\n",
        "greet()"
      ]
    },
    {
      "cell_type": "code",
      "execution_count": 50,
      "metadata": {
        "colab": {
          "base_uri": "https://localhost:8080/"
        },
        "id": "DOjNneT9Oa-A",
        "outputId": "ee175abd-620a-46b8-f75f-d82608220f77"
      },
      "outputs": [
        {
          "name": "stdout",
          "output_type": "stream",
          "text": [
            "Hello, John!\n"
          ]
        }
      ],
      "source": [
        "# Write a function that takes a name as an argument and prints “Hello, !”.\n",
        "def greetings(name):\n",
        "    print(f\"Hello, {name}!\")\n",
        "\n",
        "greetings(\"John\")"
      ]
    },
    {
      "cell_type": "code",
      "execution_count": 52,
      "metadata": {
        "colab": {
          "base_uri": "https://localhost:8080/"
        },
        "id": "Fbjc4RlmOa33",
        "outputId": "6423c172-b53c-4515-88eb-b6fe4a649edf"
      },
      "outputs": [
        {
          "name": "stdout",
          "output_type": "stream",
          "text": [
            "Enter a number3\n",
            "Enter another number5\n",
            "8\n"
          ]
        }
      ],
      "source": [
        "# Write a function that takes two numbers and returns their sum.\n",
        "num1= int(input(\"Enter a number\"))\n",
        "num2= int(input(\"Enter another number\"))\n",
        "def add_numbers(num1, num2):\n",
        "  \"\"\"This function takes two numbers and returns their sum.\"\"\"\n",
        "  return num1 + num2\n",
        "\n",
        "# Example usage:\n",
        "result = add_numbers(num1, num2)\n",
        "print(result) # Output: 8"
      ]
    },
    {
      "cell_type": "code",
      "execution_count": 53,
      "metadata": {
        "colab": {
          "base_uri": "https://localhost:8080/"
        },
        "id": "ZtMwvCGWOavX",
        "outputId": "f4af6946-a3c7-4225-ec64-76ba30e2f47f"
      },
      "outputs": [
        {
          "name": "stdout",
          "output_type": "stream",
          "text": [
            "The largest number is: 20\n"
          ]
        }
      ],
      "source": [
        "# Write a function that returns the largest of three numbers.\n",
        "def find_largest(num1, num2, num3):\n",
        "  if num1 >= num2 and num1 >= num3:\n",
        "    return num1\n",
        "  elif num2 >= num1 and num2 >= num3:\n",
        "    return num2\n",
        "  else:\n",
        "    return num3\n",
        "\n",
        "# Example usage:\n",
        "largest_number = find_largest(10, 5, 20)\n",
        "print(f\"The largest number is: {largest_number}\")"
      ]
    },
    {
      "cell_type": "code",
      "execution_count": 59,
      "metadata": {
        "colab": {
          "base_uri": "https://localhost:8080/"
        },
        "id": "bdyLYbM0Oalg",
        "outputId": "d9a8ecbc-2549-4887-88ab-506ffbb14839"
      },
      "outputs": [
        {
          "name": "stdout",
          "output_type": "stream",
          "text": [
            "The sum of elements is 82\n"
          ]
        }
      ],
      "source": [
        "# Write a function that takes a list of numbers and returns the sum of all elements.\n",
        "numbers = [2,5,3,1,67,4]\n",
        "\n",
        "def sumOfElements(numbers):\n",
        "  total = 0\n",
        "  for i in numbers:\n",
        "    total += i\n",
        "  return total\n",
        "\n",
        "print(f\"The sum of elements is {sumOfElements(numbers)}\")\n"
      ]
    },
    {
      "cell_type": "code",
      "execution_count": 67,
      "metadata": {
        "colab": {
          "base_uri": "https://localhost:8080/"
        },
        "id": "BkZFod9JOjYo",
        "outputId": "0430f59c-1b0c-42be-95dc-812498c3ff58"
      },
      "outputs": [
        {
          "name": "stdout",
          "output_type": "stream",
          "text": [
            "Enter a number6\n",
            "6 is NOT a prime number (divisible by 2).\n"
          ]
        }
      ],
      "source": [
        "# Write a function that checks if a given number is prime.\n",
        "num = int(input(\"Enter a number\"))\n",
        "def checkNum(number):\n",
        "  if num > 1:\n",
        "    for i in range(2, num):\n",
        "        if num % i == 0:\n",
        "            print(f\"{num} is NOT a prime number (divisible by {i}).\")\n",
        "            break\n",
        "    else:\n",
        "        print(f\"{num} is a PRIME number (divisible only by 1 and itself).\")\n",
        "  else:\n",
        "    print(\"Number must be greater than 1.\")\n",
        "\n",
        "checkNum(number)"
      ]
    },
    {
      "cell_type": "code",
      "execution_count": 74,
      "metadata": {
        "colab": {
          "base_uri": "https://localhost:8080/"
        },
        "id": "SPkDALJEOjTX",
        "outputId": "c1daea53-509f-4019-ca2a-7af34b9ad811"
      },
      "outputs": [
        {
          "name": "stdout",
          "output_type": "stream",
          "text": [
            "Even numbers are: [2, 4, 6, 24, 32, 16]\n"
          ]
        }
      ],
      "source": [
        "# Write a function that takes a list of numbers and returns a new list with only even numbers.\n",
        "list1 = [2,4,6,5,3,7,99,24,32,16,77,71]\n",
        "\n",
        "def evenOnly(list1):\n",
        " even_numbers = []\n",
        " for number in list1:\n",
        "    if number % 2 == 0:  # Check if the number is even\n",
        "         even_numbers.append(number)\n",
        " return even_numbers\n",
        "\n",
        "print(\"Even numbers are:\", evenOnly(list1))\n"
      ]
    },
    {
      "cell_type": "code",
      "execution_count": 95,
      "metadata": {
        "colab": {
          "base_uri": "https://localhost:8080/"
        },
        "id": "hQcVLPniOoc4",
        "outputId": "c83f3af0-a5a5-443b-ff7e-9cf053e2238b"
      },
      "outputs": [
        {
          "name": "stdout",
          "output_type": "stream",
          "text": [
            "Enter a word or sentence: care\n",
            "Number of vowels: 2\n"
          ]
        }
      ],
      "source": [
        "# Write a function that takes a string and returns the number of vowels in it\n",
        "word = input(\"Enter a word or sentence: \")\n",
        "def returnVowel(word):\n",
        "  vowels = \"aeiouAEIOU\"\n",
        "  vowel_count = 0\n",
        "  for char in word:\n",
        "        if char in vowels:\n",
        "            vowel_count += 1\n",
        "  return vowel_count\n",
        "\n",
        "print(\"Number of vowels:\", returnVowel(word))"
      ]
    },
    {
      "cell_type": "code",
      "execution_count": 98,
      "metadata": {
        "colab": {
          "base_uri": "https://localhost:8080/"
        },
        "id": "jHjW6xNYftPq",
        "outputId": "a0d39507-c405-4a10-c0d5-4208f34be5ed"
      },
      "outputs": [
        {
          "name": "stdout",
          "output_type": "stream",
          "text": [
            "Enter your namejob\n",
            "Enter your age37\n",
            "My name is job and I am 37 years old.\n"
          ]
        }
      ],
      "source": [
        "# Section E: Classes & Objects (37–40)\n",
        "# Create a class Person with attributes name and age, and a method introduce() that prints “My name is and I am years old.”\n",
        "name = input(\"Enter your name\")\n",
        "age = int(input(\"Enter your age\"))\n",
        "class Person:\n",
        "    def __init__(self, name, age):  # Constructor to initialize attributes\n",
        "        self.name = name\n",
        "        self.age = age\n",
        "\n",
        "    def introduce(self):\n",
        "        print(f\"My name is {self.name} and I am {self.age} years old.\")\n",
        "\n",
        "#object of the class\n",
        "person1 = Person(name, age)\n",
        "\n",
        "# Call the method\n",
        "person1.introduce()\n"
      ]
    },
    {
      "cell_type": "code",
      "execution_count": 97,
      "metadata": {
        "colab": {
          "base_uri": "https://localhost:8080/"
        },
        "id": "TUoCJD7Sf0mr",
        "outputId": "6b82648e-7a41-4c22-b83f-6509994e11af"
      },
      "outputs": [
        {
          "name": "stdout",
          "output_type": "stream",
          "text": [
            "Enter a length3\n",
            "Enter a width5\n",
            "The area if a rectangle is 15.\n"
          ]
        }
      ],
      "source": [
        "# Create a class Rectangle with attributes length and width, and a method area() that returns the area.\n",
        "ln = int(input(\"Enter a length\"))\n",
        "wd = int(input(\"Enter a width\"))\n",
        "class Rectangle:\n",
        "    def __init__(rect, length, width):  # Constructor to initialize attributes\n",
        "        rect.length = length\n",
        "        rect.width = width\n",
        "\n",
        "    def area(rect):\n",
        "        print(f\"The area if a rectangle is {rect.length * rect.width}.\")\n",
        "\n",
        "Rectangle1 = Rectangle(ln, wd)\n",
        "Rectangle1.area()\n"
      ]
    },
    {
      "cell_type": "code",
      "execution_count": 100,
      "metadata": {
        "colab": {
          "base_uri": "https://localhost:8080/"
        },
        "id": "RGJPJGLHf2Ey",
        "outputId": "8d1bf764-b0d7-440f-cb0c-998aa87cf6bc"
      },
      "outputs": [
        {
          "name": "stdout",
          "output_type": "stream",
          "text": [
            "Current balance: 1000000\n",
            "Deposited 50000. New balance: 1050000\n",
            "Withdrew 30000. New balance: 1020000\n",
            "Withdrew 150000. New balance: 870000\n"
          ]
        }
      ],
      "source": [
        "# Create a class BankAccount with methods deposit(), withdraw(), and check_balance().\n",
        "class BankAccounts:\n",
        "    def __init__(self, owner, balance=0):\n",
        "      self.owner = owner\n",
        "      self.balance = balance\n",
        "\n",
        "    def deposit(self, amount):\n",
        "      self.balance += amount\n",
        "      print(f\"Deposited {amount}. New balance: {self.balance}\")\n",
        "\n",
        "    def withdraw(self, amount):\n",
        "        if amount > self.balance:\n",
        "            print(\"Insufficient funds!\")\n",
        "        else:\n",
        "            self.balance -= amount\n",
        "            print(f\"Withdrew {amount}. New balance: {self.balance}\")\n",
        "\n",
        "    def check_balance(self):\n",
        "        print(f\"Current balance: {self.balance}\")\n",
        "\n",
        "account1 = BankAccounts(\"Gilbert\", 1000000)\n",
        "\n",
        "account1.check_balance()\n",
        "account1.deposit(50000)\n",
        "account1.withdraw(30000)\n",
        "account1.withdraw(150000)\n"
      ]
    },
    {
      "cell_type": "code",
      "execution_count": 104,
      "metadata": {
        "colab": {
          "base_uri": "https://localhost:8080/"
        },
        "id": "doKKC2d5f3at",
        "outputId": "abd7df65-52ad-4667-ae24-f840d8f7b81a"
      },
      "outputs": [
        {
          "name": "stdout",
          "output_type": "stream",
          "text": [
            "Enter student namegh\n",
            "Enter student marks56\n",
            "Pass: You have passed\n"
          ]
        }
      ],
      "source": [
        "# Create a class Student with attributes name and marks, and a method grade() that prints “Pass” if marks ≥ 50, otherwise “Fail.”\n",
        "name = input(\"Enter student name\")\n",
        "marks = int(input(\"Enter student marks\"))\n",
        "class Students:\n",
        "    def __init__(self, name, marks):\n",
        "      self.name = name\n",
        "      self.marks = marks\n",
        "\n",
        "    def grade(self):\n",
        "      if self.marks >= 50:\n",
        "        Remark = \"Pass\"\n",
        "        print(f\"{Remark}: You have passed\")\n",
        "      else:\n",
        "        Remark = \"Fail\"\n",
        "        print(f\"{Remark}: You have Failed\")\n",
        "\n",
        "student1 = Students(name, marks)\n",
        "student1.grade()\n"
      ]
    }
  ],
  "metadata": {
    "colab": {
      "provenance": []
    },
    "kernelspec": {
      "display_name": "Python 3",
      "name": "python3"
    },
    "language_info": {
      "codemirror_mode": {
        "name": "ipython",
        "version": 3
      },
      "file_extension": ".py",
      "mimetype": "text/x-python",
      "name": "python",
      "nbconvert_exporter": "python",
      "pygments_lexer": "ipython3",
      "version": "3.13.7"
    }
  },
  "nbformat": 4,
  "nbformat_minor": 0
}
